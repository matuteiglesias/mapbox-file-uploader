{
 "cells": [
  {
   "cell_type": "markdown",
   "metadata": {},
   "source": [
    "## Funciones"
   ]
  },
  {
   "cell_type": "markdown",
   "metadata": {},
   "source": [
    "### Guardar como geojson"
   ]
  },
  {
   "cell_type": "code",
   "execution_count": 11,
   "metadata": {},
   "outputs": [],
   "source": [
    "import os\n",
    "# pip install geopandas\n",
    "import geopandas as gpd\n",
    "\n",
    "\n",
    "def save_geojson(gdf, filename = 'test.geojson'):\n",
    "    if not os.path.exists('./geojson/'):\n",
    "        os.makedirs('./geojson/')\n",
    "    \n",
    "    try:    # Delete if geojson exists, cause overwriting is not supported\n",
    "        os.remove('./geojson/'+filename)\n",
    "    except OSError:\n",
    "        pass\n",
    "    \n",
    "    gdf.to_file('./geojson/'+filename, driver=\"GeoJSON\", encoding='utf-8')\n",
    "    \n"
   ]
  },
  {
   "cell_type": "markdown",
   "metadata": {},
   "source": [
    "### Subir archivo a Mapbox"
   ]
  },
  {
   "cell_type": "code",
   "execution_count": null,
   "metadata": {},
   "outputs": [],
   "source": [
    "# pip install mapbox\n",
    "from mapbox import Uploader\n",
    "import json\n",
    "\n",
    "def upload_file(data, name, username = 'your_mapbox_user', token = 'your_user_token'):\n",
    "    try:    # Clear upload file if exists\n",
    "        os.remove('./upload_data.geojson')\n",
    "    except OSError:\n",
    "        pass\n",
    "    \n",
    "    # Dump into file for upload    \n",
    "    with open('./upload_data.geojson', 'w') as outfile:\n",
    "        json.dump(data, outfile)\n",
    "\n",
    "    service = Uploader(access_token=token)\n",
    "    with open('./upload_data.geojson', 'rb') as src:\n",
    "        # Acquisition of credentials, staging of data, and upload\n",
    "        # finalization is done by a single method in the Python SDK.\n",
    "        upload_resp = service.upload(src, username+'.'+name)\n",
    "        "
   ]
  },
  {
   "cell_type": "markdown",
   "metadata": {},
   "source": [
    "# Ejemplo de uso: \n",
    "\n",
    "#### Cargamos un archivo con las delimitaciones de Departamentos Argentinos que provee el Instituto Geografico:"
   ]
  },
  {
   "cell_type": "code",
   "execution_count": 12,
   "metadata": {},
   "outputs": [],
   "source": [
    "from urllib.request import urlretrieve\n",
    "# pip install pyunpack\n",
    "from pyunpack import Archive\n",
    "\n",
    "# Obtaining the data from the URL's\n",
    "url_front = 'https://www.ign.gob.ar/descargas/geodatos/SHAPES/'\n",
    "\n",
    "## Carpeta donde quedaran los shp\n",
    "extract_dir = 'IGN_shp'\n",
    "file_name = 'ign_provincia.zip'\n",
    "\n",
    "full_file = os.path.join(os.getcwd(), extract_dir, file_name)\n",
    "\n",
    "# Descarga el rar solo si no existe.\n",
    "if not os.path.isfile(full_file):\n",
    "    # Si no esta el directorio lo crea\n",
    "    if not os.path.exists(extract_dir):\n",
    "        os.makedirs(extract_dir)\n",
    "\n",
    "    # Toma data del URL\n",
    "    urlretrieve(url_front + file_name, full_file)\n",
    "\n",
    "Archive(full_file).extractall(extract_dir)"
   ]
  },
  {
   "cell_type": "code",
   "execution_count": 13,
   "metadata": {},
   "outputs": [],
   "source": [
    "# Aca pueden cargar otro archivo a eleccion.\n",
    "provincias = gpd.read_file('./IGN_shp/Provincia/')\n",
    "provincias['PROV_'] = provincias['IN1']\n",
    "\n",
    "# Si queremos corregir el crs. Tiene que estar en lat lng para que lo acepte Mapbox.\n",
    "# gdf.crs = ...; gdf = gdf.to_crs({'init': \"EPSG:4326\"})"
   ]
  },
  {
   "cell_type": "markdown",
   "metadata": {},
   "source": [
    "## Subimos el geojson a nuestra cuenta de MapBox"
   ]
  },
  {
   "cell_type": "code",
   "execution_count": 14,
   "metadata": {},
   "outputs": [
    {
     "name": "stdout",
     "output_type": "stream",
     "text": [
      "test\n"
     ]
    }
   ],
   "source": [
    "name = 'test'\n",
    "gdf = provincias\n",
    "\n",
    "# En caso que falte alguna geometry\n",
    "gdf = gdf.dropna(subset = ['geometry'])\n",
    "\n",
    "save_geojson(gdf, name + '.geojson')\n",
    "\n",
    "username = 'your_mapbox_user'\n",
    "token = 'your_mapbox_token'\n",
    "\n",
    "files = os.listdir('./geojson/')\n",
    "files = [f for f in files if name in f]\n",
    "\n",
    "names = [name.split('.')[0] for name in files]\n",
    "\n",
    "# El siguiente loop subre todo lo que este en la carpeta geojson\n",
    "for i in range(len(files)):\n",
    "    print(names[i])\n",
    "    data_ = json.load(open('./geojson/'+files[i]))\n",
    "\n",
    "    try:\n",
    "        upload_file(data_, names[i])\n",
    "    except:\n",
    "        pass"
   ]
  },
  {
   "cell_type": "code",
   "execution_count": null,
   "metadata": {},
   "outputs": [],
   "source": []
  }
 ],
 "metadata": {
  "kernelspec": {
   "display_name": "Python 3",
   "language": "python",
   "name": "python3"
  },
  "language_info": {
   "codemirror_mode": {
    "name": "ipython",
    "version": 3
   },
   "file_extension": ".py",
   "mimetype": "text/x-python",
   "name": "python",
   "nbconvert_exporter": "python",
   "pygments_lexer": "ipython3",
   "version": "3.8.5"
  }
 },
 "nbformat": 4,
 "nbformat_minor": 4
}
